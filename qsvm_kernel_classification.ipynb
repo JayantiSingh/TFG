{
  "nbformat": 4,
  "nbformat_minor": 0,
  "metadata": {
    "colab": {
      "name": "qsvm_kernel_classification.ipynb",
      "version": "0.3.2",
      "provenance": [],
      "collapsed_sections": [],
      "include_colab_link": true
    },
    "kernelspec": {
      "display_name": "Python 3",
      "language": "python",
      "name": "python3"
    }
  },
  "cells": [
    {
      "cell_type": "markdown",
      "metadata": {
        "id": "view-in-github",
        "colab_type": "text"
      },
      "source": [
        "<a href=\"https://colab.research.google.com/github/abignu/TFG/blob/master/qsvm_kernel_classification.ipynb\" target=\"_parent\"><img src=\"https://colab.research.google.com/assets/colab-badge.svg\" alt=\"Open In Colab\"/></a>"
      ]
    },
    {
      "metadata": {
        "id": "5z7b8LdASi52",
        "colab_type": "text"
      },
      "cell_type": "markdown",
      "source": [
        "La versión original de la simulación se puede encontrar en:  https://github.com/qiskit/qiskit-tutorial."
      ]
    },
    {
      "metadata": {
        "id": "9Dyc0OgyQxwm",
        "colab_type": "code",
        "colab": {}
      },
      "cell_type": "code",
      "source": [
        "#dependencies\n",
        "from qsvm_datasets import *\n",
        "\n",
        "from qiskit import Aer\n",
        "from qiskit_aqua.utils import split_dataset_to_data_and_labels, map_label_to_class_name\n",
        "from qiskit_aqua.input import SVMInput\n",
        "from qiskit_aqua import run_algorithm, QuantumInstance\n",
        "from qiskit_aqua.algorithms import QSVMKernel\n",
        "from qiskit_aqua.components.feature_maps import SecondOrderExpansion\n",
        "\n",
        "# setup aqua logging\n",
        "import logging\n",
        "from qiskit_aqua import set_aqua_logging\n",
        "# set_aqua_logging(logging.DEBUG)  # choose INFO, DEBUG to see the log"
      ],
      "execution_count": 0,
      "outputs": []
    },
    {
      "metadata": {
        "id": "66qP206GQxwq",
        "colab_type": "code",
        "colab": {}
      },
      "cell_type": "code",
      "source": [
        "from qiskit import IBMQ\n",
        "IBMQ.load_accounts()"
      ],
      "execution_count": 0,
      "outputs": []
    },
    {
      "metadata": {
        "id": "PRnrP7YkQxxB",
        "colab_type": "code",
        "colab": {},
        "outputId": "0cb35134-e236-4eb2-f09c-11d4561fa1bb"
      },
      "cell_type": "code",
      "source": [
        "#obtenemos las muestras de training y test del dataset\n",
        "sample_Total, training_input, test_input, class_labels = Breast_cancer(training_size=20,\n",
        "                                                                       test_size=10,\n",
        "                                                                       n=2,\n",
        "                                                                       PLOT_DATA=True)"
      ],
      "execution_count": 0,
      "outputs": [
        {
          "output_type": "display_data",
          "data": {
            "image/png": "[encoded data removed]",
            "text/plain": [
              "<Figure size 432x288 with 1 Axes>"
            ]
          },
          "metadata": {
            "tags": [],
            "needs_background": "light"
          }
        }
      ]
    },
    {
      "metadata": {
        "id": "jQEHHyivQxxH",
        "colab_type": "code",
        "colab": {},
        "outputId": "f29fd618-f4ea-4df5-c1e2-4669e1d59e8c"
      },
      "cell_type": "code",
      "source": [
        "#aplicamos QSVM\n",
        "seed = 10598\n",
        "\n",
        "feature_map = SecondOrderExpansion(num_qubits=feature_dim, depth=2, entanglement='linear')\n",
        "qsvm = QSVMKernel(feature_map, training_input, test_input)\n",
        "\n",
        "backend = Aer.get_backend('qasm_simulator')\n",
        "quantum_instance = QuantumInstance(backend, shots=1024, seed=seed, seed_mapper=seed)\n",
        "\n",
        "result = qsvm.run(quantum_instance)\n",
        "\n",
        "\"\"\"declarative approach, re-use the params above\n",
        "algo_input = SVMInput(training_input, test_input)\n",
        "result = run_algorithm(params, algo_input)\n",
        "\"\"\"\n",
        "print(\"testing success ratio: \", result['testing_accuracy'])"
      ],
      "execution_count": 0,
      "outputs": [
        {
          "output_type": "stream",
          "text": [
            "testing success ratio:  0.9\n"
          ],
          "name": "stdout"
        }
      ]
    },
    {
      "metadata": {
        "id": "x5Ffpm8hQxxK",
        "colab_type": "code",
        "colab": {},
        "outputId": "70986b5d-b177-4a1d-e641-5de06b04bd14"
      },
      "cell_type": "code",
      "source": [
        "print(\"kernel matrix during the training:\")\n",
        "kernel_matrix = result['kernel_matrix_training']\n",
        "img = plt.imshow(np.asmatrix(kernel_matrix),interpolation='nearest',origin='upper',cmap='bone_r')\n",
        "plt.show()"
      ],
      "execution_count": 0,
      "outputs": [
        {
          "output_type": "stream",
          "text": [
            "kernel matrix during the training:\n"
          ],
          "name": "stdout"
        },
        {
          "output_type": "display_data",
          "data": {
            "image/png": "[encoded data removed]",
            "text/plain": [
              "<Figure size 432x288 with 1 Axes>"
            ]
          },
          "metadata": {
            "tags": [],
            "needs_background": "light"
          }
        }
      ]
    }
  ]
}