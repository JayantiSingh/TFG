{
  "nbformat": 4,
  "nbformat_minor": 0,
  "metadata": {
    "colab": {
      "name": "Simulacion_SVM_restringido.ipynb",
      "version": "0.3.2",
      "provenance": [],
      "collapsed_sections": [],
      "include_colab_link": true
    },
    "kernelspec": {
      "name": "python3",
      "display_name": "Python 3"
    }
  },
  "cells": [
    {
      "cell_type": "markdown",
      "metadata": {
        "id": "view-in-github",
        "colab_type": "text"
      },
      "source": [
        "<a href=\"https://colab.research.google.com/github/abignu/TFG/blob/master/Simulacion_SVM_restringido.ipynb\" target=\"_parent\"><img src=\"https://colab.research.google.com/assets/colab-badge.svg\" alt=\"Open In Colab\"/></a>"
      ]
    },
    {
      "metadata": {
        "id": "qDZ39pSYQuxr",
        "colab_type": "code",
        "colab": {}
      },
      "cell_type": "code",
      "source": [
        "#dependencies\n",
        "import pandas as pd\n",
        "import numpy as np\n",
        "import matplotlib.pyplot as plt\n",
        "import seaborn as sns\n",
        "\n",
        "%matplotlib inline\n",
        "\n",
        "#importamos Cancer dataset de las librerías de Sklearn\n",
        "from sklearn.datasets import load_breast_cancer\n",
        "from sklearn.model_selection import train_test_split\n",
        "from sklearn.preprocessing import StandardScaler, MinMaxScaler\n",
        "from sklearn.decomposition import PCA"
      ],
      "execution_count": 0,
      "outputs": []
    },
    {
      "metadata": {
        "id": "DVqpyBOlQzXo",
        "colab_type": "code",
        "colab": {}
      },
      "cell_type": "code",
      "source": [
        "#cargamos dataset\n",
        "data, target = load_breast_cancer(True)\n",
        "\n",
        "sample_train, sample_test, label_train, label_test = train_test_split(data, target, test_size=0.3, random_state=12)"
      ],
      "execution_count": 0,
      "outputs": []
    },
    {
      "metadata": {
        "id": "DHGjS2J2SUJs",
        "colab_type": "code",
        "colab": {}
      },
      "cell_type": "code",
      "source": [
        "#aplico PCA para reducir la dimensión del dataset y quedarme con los dos features más importantes\n",
        "#antes estandarizamos las variables\n",
        "std_scale = StandardScaler().fit(sample_train)\n",
        "sample_train = std_scale.transform(sample_train)\n",
        "sample_test = std_scale.transform(sample_test)\n",
        "\n",
        "# reducimos el número de features al número de qubits\n",
        "pca = PCA(n_components=2).fit(sample_train)\n",
        "sample_train = pca.transform(sample_train)\n",
        "sample_test = pca.transform(sample_test)"
      ],
      "execution_count": 0,
      "outputs": []
    },
    {
      "metadata": {
        "id": "S56U_x7bTJCm",
        "colab_type": "code",
        "outputId": "593fc214-1724-41cd-db52-57bcf99f35df",
        "colab": {
          "base_uri": "https://localhost:8080/",
          "height": 71
        }
      },
      "cell_type": "code",
      "source": [
        "#cargamos modelo\n",
        "from sklearn.svm import SVC\n",
        "svc_model = SVC()\n",
        "\n",
        "#lo entrenamos\n",
        "svc_model.fit(sample_train, label_train)\n",
        "\n",
        "#hacemos predicción\n",
        "y_predict = svc_model.predict(sample_test)"
      ],
      "execution_count": 0,
      "outputs": [
        {
          "output_type": "stream",
          "text": [
            "/usr/local/lib/python3.6/dist-packages/sklearn/svm/base.py:196: FutureWarning: The default value of gamma will change from 'auto' to 'scale' in version 0.22 to account better for unscaled features. Set gamma explicitly to 'auto' or 'scale' to avoid this warning.\n",
            "  \"avoid this warning.\", FutureWarning)\n"
          ],
          "name": "stderr"
        }
      ]
    },
    {
      "metadata": {
        "id": "VC01No8wUKfN",
        "colab_type": "code",
        "outputId": "3393f7ef-1985-4038-c422-49e93086a02e",
        "colab": {
          "base_uri": "https://localhost:8080/",
          "height": 337
        }
      },
      "cell_type": "code",
      "source": [
        "#una vez entrenado hacemos análisis\n",
        "# Import metric libraries\n",
        "from sklearn.metrics import classification_report, confusion_matrix\n",
        "\n",
        "cm = np.array(confusion_matrix(label_test, y_predict, labels=[1,0]))\n",
        "confusion = pd.DataFrame(cm, index=['is_cancer', 'is_healthy'],\n",
        "                         columns=['predicted_cancer','predicted_healthy'])\n",
        "print(confusion)\n",
        "sns.heatmap(confusion,annot=True,fmt=\"d\")"
      ],
      "execution_count": 0,
      "outputs": [
        {
          "output_type": "stream",
          "text": [
            "            predicted_cancer  predicted_healthy\n",
            "is_cancer                100                  7\n",
            "is_healthy                 7                 57\n"
          ],
          "name": "stdout"
        },
        {
          "output_type": "execute_result",
          "data": {
            "text/plain": [
              "<matplotlib.axes._subplots.AxesSubplot at 0x7f9b51ec2080>"
            ]
          },
          "metadata": {
            "tags": []
          },
          "execution_count": 18
        },
        {
          "output_type": "display_data",
          "data": {
            "image/png": "[encoded data removed]",
            "text/plain": [
              "<Figure size 432x288 with 2 Axes>"
            ]
          },
          "metadata": {
            "tags": []
          }
        }
      ]
    },
    {
      "metadata": {
        "id": "blGuntkgUbgz",
        "colab_type": "code",
        "outputId": "f57123b2-f4a3-4944-d965-0c86990ede2e",
        "colab": {
          "base_uri": "https://localhost:8080/",
          "height": 170
        }
      },
      "cell_type": "code",
      "source": [
        "print(classification_report(label_test, y_predict))"
      ],
      "execution_count": 0,
      "outputs": [
        {
          "output_type": "stream",
          "text": [
            "              precision    recall  f1-score   support\n",
            "\n",
            "           0       0.89      0.89      0.89        64\n",
            "           1       0.93      0.93      0.93       107\n",
            "\n",
            "   micro avg       0.92      0.92      0.92       171\n",
            "   macro avg       0.91      0.91      0.91       171\n",
            "weighted avg       0.92      0.92      0.92       171\n",
            "\n"
          ],
          "name": "stdout"
        }
      ]
    }
  ]
}